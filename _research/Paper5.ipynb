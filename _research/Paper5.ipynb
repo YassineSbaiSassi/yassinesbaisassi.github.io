{
 "cells": [
  {
   "cell_type": "markdown",
   "id": "615520fe-2ce9-4fdb-bbee-9b9dc38a0535",
   "metadata": {
    "user_expressions": []
   },
   "source": [
    "### Hello"
   ]
  },
  {
   "cell_type": "code",
   "execution_count": null,
   "id": "5a19fd1c-c3bb-4f5b-b447-a9204a4e817e",
   "metadata": {},
   "outputs": [],
   "source": []
  }
 ],
 "metadata": {
  "kernelspec": {
   "display_name": "Python 3 (ipykernel)",
   "language": "python",
   "name": "python3"
  },
  "language_info": {
   "codemirror_mode": {
    "name": "ipython",
    "version": 3
   },
   "file_extension": ".py",
   "mimetype": "text/x-python",
   "name": "python",
   "nbconvert_exporter": "python",
   "pygments_lexer": "ipython3",
   "version": "3.11.0"
  }
 },
 "nbformat": 4,
 "nbformat_minor": 5
}
